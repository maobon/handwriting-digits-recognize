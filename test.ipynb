{
 "cells": [
  {
   "cell_type": "code",
   "execution_count": null,
   "id": "b3d10701-2c78-4e8d-a58a-53b3f800573c",
   "metadata": {},
   "outputs": [
    {
     "name": "stdout",
     "output_type": "stream",
     "text": [
      "hello world\n"
     ]
    },
    {
     "name": "stderr",
     "output_type": "stream",
     "text": [
      "2025-01-07 22:34:28.925 python[10119:352539] +[IMKClient subclass]: chose IMKClient_Modern\n",
      "2025-01-07 22:34:28.925 python[10119:352539] +[IMKInputSession subclass]: chose IMKInputSession_Modern\n"
     ]
    },
    {
     "name": "stdout",
     "output_type": "stream",
     "text": [
      "mouse left button pressed\n",
      "mouse left button released\n",
      "mouse right button pressed\n",
      "okok...\n"
     ]
    },
    {
     "name": "stderr",
     "output_type": "stream",
     "text": [
      "2025-01-07 22:34:35.162769: I metal_plugin/src/device/metal_device.cc:1154] Metal device set to: Apple M1 Pro\n",
      "2025-01-07 22:34:35.162831: I metal_plugin/src/device/metal_device.cc:296] systemMemory: 16.00 GB\n",
      "2025-01-07 22:34:35.162852: I metal_plugin/src/device/metal_device.cc:313] maxCacheSize: 5.33 GB\n",
      "2025-01-07 22:34:35.162898: I tensorflow/core/common_runtime/pluggable_device/pluggable_device_factory.cc:305] Could not identify NUMA node of platform GPU ID 0, defaulting to 0. Your kernel may not have been built with NUMA support.\n",
      "2025-01-07 22:34:35.162922: I tensorflow/core/common_runtime/pluggable_device/pluggable_device_factory.cc:271] Created TensorFlow device (/job:localhost/replica:0/task:0/device:GPU:0 with 0 MB memory) -> physical PluggableDevice (device: 0, name: METAL, pci bus id: <undefined>)\n"
     ]
    },
    {
     "name": "stdout",
     "output_type": "stream",
     "text": [
      "\u001b[1m1/1\u001b[0m \u001b[32m━━━━━━━━━━━━━━━━━━━━\u001b[0m\u001b[37m\u001b[0m \u001b[1m0s\u001b[0m 235ms/step\n"
     ]
    },
    {
     "name": "stderr",
     "output_type": "stream",
     "text": [
      "2025-01-07 22:34:35.713991: I tensorflow/core/grappler/optimizers/custom_graph_optimizer_registry.cc:117] Plugin optimizer for device_type GPU is enabled.\n"
     ]
    },
    {
     "name": "stdout",
     "output_type": "stream",
     "text": [
      "== RESULT:Predicted digit for the image: 9\n"
     ]
    }
   ],
   "source": [
    "import os\n",
    "import cv2 as cv\n",
    "import sys\n",
    "\n",
    "import tensorflow as tf\n",
    "import numpy as np\n",
    "from PIL import Image\n",
    "import imageio.v2 as imageio\n",
    "\n",
    "os.environ['KMP_DUPLICATE_LIB_OK'] = 'True'\n",
    "\n",
    "\n",
    "def predict_local_image(image_path):\n",
    "    loaded_model = tf.keras.models.load_model(\"mnist_model_optimized_v9.keras\")\n",
    "\n",
    "    # 读取图片\n",
    "    try:\n",
    "        img = imageio.imread(image_path, pilmode='L')  # 加载图像并转换为灰度图\n",
    "    except FileNotFoundError:\n",
    "        print(\"Error: Image not found or could not be read.\")\n",
    "        return\n",
    "\n",
    "    # 调整大小为28x28\n",
    "    img = Image.fromarray(img).resize((28, 28))\n",
    "    img = np.array(img)\n",
    "    # 反转颜色（如果是白底黑字）\n",
    "    img = 255 - img\n",
    "    # 归一化处理\n",
    "    img = img.astype('float32') / 255.0\n",
    "    # 增加批次维度\n",
    "    img = np.expand_dims(img, axis=0)\n",
    "    # 预测\n",
    "    prediction = loaded_model.predict(img)\n",
    "    predicted_digit = np.argmax(prediction)\n",
    "    print(f\"== RESULT:Predicted digit for the image: {predicted_digit}\")\n",
    "\n",
    "\n",
    "def draw(event, x, y, flags, param):\n",
    "    global img, pre_pts\n",
    "\n",
    "    if event == cv.EVENT_RBUTTONDOWN:\n",
    "        print(\"mouse right button pressed\")\n",
    "\n",
    "    if event == cv.EVENT_LBUTTONDOWN:\n",
    "        print(\"mouse left button pressed\")\n",
    "        pre_pts = (x, y)\n",
    "        # print(\"mouse pressed points: {},{}\".format(x, y))\n",
    "\n",
    "    if event == cv.EVENT_MOUSEMOVE and flags == cv.EVENT_FLAG_LBUTTON:\n",
    "        pts = (x, y)\n",
    "        img = cv.line(img, pre_pts, pts, (0, 0, 0), 10, 5, 0)\n",
    "        pre_pts = pts\n",
    "        cv.imshow(\"image\", img)\n",
    "\n",
    "    if event == cv.EVENT_LBUTTONUP:\n",
    "        print(\"mouse left button released\")\n",
    "\n",
    "    if event == cv.EVENT_RBUTTONUP:\n",
    "        print(\"okok...\")\n",
    "\n",
    "        if cv.imwrite(\"image.png\", img):\n",
    "            #target_path = utils.main()\n",
    "            #predict_local_image(target_path)\n",
    "            predict_local_image(\"image.png\")\n",
    "\n",
    "\n",
    "if __name__ == '__main__':\n",
    "    print(\"hello world\")\n",
    "\n",
    "    img = cv.imread('bc_image.jpg')\n",
    "\n",
    "    if img is None:\n",
    "        print(\"Failed to load image\")\n",
    "        sys.exit()\n",
    "\n",
    "    pre_pts = -1, -1\n",
    "    cv.imshow(\"image\", img)\n",
    "    cv.setMouseCallback(\"image\", draw)\n",
    "    cv.waitKey(0)\n",
    "    cv.destroyAllWindows()\n"
   ]
  }
 ],
 "metadata": {
  "kernelspec": {
   "display_name": "Python 3",
   "language": "python",
   "name": "python3"
  },
  "language_info": {
   "codemirror_mode": {
    "name": "ipython",
    "version": 3
   },
   "file_extension": ".py",
   "mimetype": "text/x-python",
   "name": "python",
   "nbconvert_exporter": "python",
   "pygments_lexer": "ipython3",
   "version": "3.10.16"
  }
 },
 "nbformat": 4,
 "nbformat_minor": 5
}
